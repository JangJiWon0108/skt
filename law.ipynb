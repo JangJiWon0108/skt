{
 "cells": [
  {
   "cell_type": "code",
   "execution_count": 27,
   "metadata": {},
   "outputs": [
    {
     "name": "stdout",
     "output_type": "stream",
     "text": [
      "data/LAW/ ---- [개수 : 500]\n"
     ]
    }
   ],
   "source": [
    "# 데이터 로딩\n",
    "\n",
    "import os\n",
    "import json\n",
    "\n",
    "path_law=\"data/LAW/\"\n",
    "json_iist_law=[]\n",
    "\n",
    "try:\n",
    "    all_files=sorted(os.listdir(path_law))\n",
    "    json_files=[file for file in all_files if file.endswith(\".json\")]\n",
    "    \n",
    "    for json_file in json_files:\n",
    "        with open(path_law+\"/\"+json_file, \"r\", encoding=\"utf-8\") as f:\n",
    "            try:\n",
    "                data=json.load(f)\n",
    "                json_iist_law.append([json_file, data])\n",
    "\n",
    "            except Exception as error:\n",
    "                print(\"Json 읽는 중 Error\")\n",
    "                print(error)\n",
    "    \n",
    "    print(\"{} ---- [개수 : {}]\".format(path_law, len(json_iist_law)))\n",
    "        \n",
    "except Exception as error:\n",
    "    print(\"폴더 읽는 중 Error\")\n",
    "    print(error)"
   ]
  },
  {
   "cell_type": "code",
   "execution_count": 28,
   "metadata": {},
   "outputs": [],
   "source": [
    "# law_name_korean, article, link 가 모두 있는지 확인\n",
    "\n",
    "col_list=[\"law_name_korean\", \"article\", \"link\"]\n",
    "\n",
    "for file in json_iist_law:\n",
    "    for col in col_list:\n",
    "        if col not in file[1]:\n",
    "            print(\"{} - 존재하지 않음\".format(col))"
   ]
  },
  {
   "cell_type": "code",
   "execution_count": 29,
   "metadata": {},
   "outputs": [],
   "source": [
    "# df 로 저장\n",
    "\n",
    "import pandas as pd\n",
    "\n",
    "result=[]\n",
    "\n",
    "for file in json_iist_law:\n",
    "    try:\n",
    "        current_data=[file[0]]\n",
    "        for col in col_list:\n",
    "            current_data.append(file[1][col])\n",
    "        result.append(current_data)\n",
    "    except Exception as error:\n",
    "        print(error)\n",
    "\n",
    "df=pd.DataFrame(\n",
    "    result,\n",
    "    columns=[\"file_name\"]+col_list,\n",
    ")"
   ]
  },
  {
   "cell_type": "code",
   "execution_count": 30,
   "metadata": {},
   "outputs": [
    {
     "data": {
      "text/html": [
       "<div>\n",
       "<style scoped>\n",
       "    .dataframe tbody tr th:only-of-type {\n",
       "        vertical-align: middle;\n",
       "    }\n",
       "\n",
       "    .dataframe tbody tr th {\n",
       "        vertical-align: top;\n",
       "    }\n",
       "\n",
       "    .dataframe thead th {\n",
       "        text-align: right;\n",
       "    }\n",
       "</style>\n",
       "<table border=\"1\" class=\"dataframe\">\n",
       "  <thead>\n",
       "    <tr style=\"text-align: right;\">\n",
       "      <th></th>\n",
       "      <th>file_name</th>\n",
       "      <th>law_name_korean</th>\n",
       "      <th>article</th>\n",
       "      <th>link</th>\n",
       "    </tr>\n",
       "  </thead>\n",
       "  <tbody>\n",
       "    <tr>\n",
       "      <th>0</th>\n",
       "      <td>law_24144_19691204_000100000001_english.json</td>\n",
       "      <td>1945년이후종전의규정에의한학교졸업자자격인정령</td>\n",
       "      <td>제1조 1950년 5월 31일 현재 종전의 규정에 의한 초급중학교 제3학년 및 중학...</td>\n",
       "      <td>https://www.law.go.kr/DRF/lawService.do?OC=jak...</td>\n",
       "    </tr>\n",
       "    <tr>\n",
       "      <th>1</th>\n",
       "      <td>law_24144_19691204_000200000001_english.json</td>\n",
       "      <td>1945년이후종전의규정에의한학교졸업자자격인정령</td>\n",
       "      <td>제2조 1950년 5월 31일 현재 종전의 규정에 의한 초급중학교 전수학과를 졸업한...</td>\n",
       "      <td>https://www.law.go.kr/DRF/lawService.do?OC=jak...</td>\n",
       "    </tr>\n",
       "    <tr>\n",
       "      <th>2</th>\n",
       "      <td>law_24144_19691204_000300000001_english.json</td>\n",
       "      <td>1945년이후종전의규정에의한학교졸업자자격인정령</td>\n",
       "      <td>제3조 1953년 3월 31일 현재 종전의 규정에 의한 중학교 및 고급중학교를 졸업...</td>\n",
       "      <td>https://www.law.go.kr/DRF/lawService.do?OC=jak...</td>\n",
       "    </tr>\n",
       "    <tr>\n",
       "      <th>3</th>\n",
       "      <td>law_24144_19691204_000400000001_english.json</td>\n",
       "      <td>1945년이후종전의규정에의한학교졸업자자격인정령</td>\n",
       "      <td>제4조 1950년 5월 31일 현재 종전의 규정에 의한 사범학교를 졸업한 자는 교육...</td>\n",
       "      <td>https://www.law.go.kr/DRF/lawService.do?OC=jak...</td>\n",
       "    </tr>\n",
       "    <tr>\n",
       "      <th>4</th>\n",
       "      <td>law_24144_19691204_000500000001_english.json</td>\n",
       "      <td>1945년이후종전의규정에의한학교졸업자자격인정령</td>\n",
       "      <td>제5조 1954년 3월 31일 현재 종전의 규정에 의한 초급대학 및 대학을 졸업한 ...</td>\n",
       "      <td>https://www.law.go.kr/DRF/lawService.do?OC=jak...</td>\n",
       "    </tr>\n",
       "    <tr>\n",
       "      <th>...</th>\n",
       "      <td>...</td>\n",
       "      <td>...</td>\n",
       "      <td>...</td>\n",
       "      <td>...</td>\n",
       "    </tr>\n",
       "    <tr>\n",
       "      <th>495</th>\n",
       "      <td>law_65792_20050101_extract_flatten_00050000000...</td>\n",
       "      <td>증권관련집단소송규칙</td>\n",
       "      <td>제5조 (증권관련집단소송에의 관여)\\n ①법 제9조제2항·제3항 또는 제11조제3항...</td>\n",
       "      <td>https://www.law.go.kr/DRF/lawService.do?OC=jak...</td>\n",
       "    </tr>\n",
       "    <tr>\n",
       "      <th>496</th>\n",
       "      <td>law_65792_20050101_extract_flatten_00060000000...</td>\n",
       "      <td>증권관련집단소송규칙</td>\n",
       "      <td>제6조 (소제기의 공고)\\n ①법 제10조제1항의 규정에 의한 공고는 전국을 보급지...</td>\n",
       "      <td>https://www.law.go.kr/DRF/lawService.do?OC=jak...</td>\n",
       "    </tr>\n",
       "    <tr>\n",
       "      <th>497</th>\n",
       "      <td>law_65792_20050101_extract_flatten_00070000000...</td>\n",
       "      <td>증권관련집단소송규칙</td>\n",
       "      <td>제7조 (대표당사자 선임을 위한 심문) 법원은 법 제10조제4항의 규정에 의한 대표...</td>\n",
       "      <td>https://www.law.go.kr/DRF/lawService.do?OC=jak...</td>\n",
       "    </tr>\n",
       "    <tr>\n",
       "      <th>498</th>\n",
       "      <td>law_65792_20050101_extract_flatten_00080000000...</td>\n",
       "      <td>증권관련집단소송규칙</td>\n",
       "      <td>제8조 (소송허가절차에서의 대표당사자 심문) 법원은 법 제13조제2항의 규정에 의한...</td>\n",
       "      <td>https://www.law.go.kr/DRF/lawService.do?OC=jak...</td>\n",
       "    </tr>\n",
       "    <tr>\n",
       "      <th>499</th>\n",
       "      <td>law_65792_20050101_extract_flatten_00090000000...</td>\n",
       "      <td>증권관련집단소송규칙</td>\n",
       "      <td>제9조 (심리할 법원지정의 신청 등)\\n ①법 제14조제2항의 규정에 의하여 심리할...</td>\n",
       "      <td>https://www.law.go.kr/DRF/lawService.do?OC=jak...</td>\n",
       "    </tr>\n",
       "  </tbody>\n",
       "</table>\n",
       "<p>500 rows × 4 columns</p>\n",
       "</div>"
      ],
      "text/plain": [
       "                                             file_name  \\\n",
       "0         law_24144_19691204_000100000001_english.json   \n",
       "1         law_24144_19691204_000200000001_english.json   \n",
       "2         law_24144_19691204_000300000001_english.json   \n",
       "3         law_24144_19691204_000400000001_english.json   \n",
       "4         law_24144_19691204_000500000001_english.json   \n",
       "..                                                 ...   \n",
       "495  law_65792_20050101_extract_flatten_00050000000...   \n",
       "496  law_65792_20050101_extract_flatten_00060000000...   \n",
       "497  law_65792_20050101_extract_flatten_00070000000...   \n",
       "498  law_65792_20050101_extract_flatten_00080000000...   \n",
       "499  law_65792_20050101_extract_flatten_00090000000...   \n",
       "\n",
       "               law_name_korean  \\\n",
       "0    1945년이후종전의규정에의한학교졸업자자격인정령   \n",
       "1    1945년이후종전의규정에의한학교졸업자자격인정령   \n",
       "2    1945년이후종전의규정에의한학교졸업자자격인정령   \n",
       "3    1945년이후종전의규정에의한학교졸업자자격인정령   \n",
       "4    1945년이후종전의규정에의한학교졸업자자격인정령   \n",
       "..                         ...   \n",
       "495                 증권관련집단소송규칙   \n",
       "496                 증권관련집단소송규칙   \n",
       "497                 증권관련집단소송규칙   \n",
       "498                 증권관련집단소송규칙   \n",
       "499                 증권관련집단소송규칙   \n",
       "\n",
       "                                               article  \\\n",
       "0    제1조 1950년 5월 31일 현재 종전의 규정에 의한 초급중학교 제3학년 및 중학...   \n",
       "1    제2조 1950년 5월 31일 현재 종전의 규정에 의한 초급중학교 전수학과를 졸업한...   \n",
       "2    제3조 1953년 3월 31일 현재 종전의 규정에 의한 중학교 및 고급중학교를 졸업...   \n",
       "3    제4조 1950년 5월 31일 현재 종전의 규정에 의한 사범학교를 졸업한 자는 교육...   \n",
       "4    제5조 1954년 3월 31일 현재 종전의 규정에 의한 초급대학 및 대학을 졸업한 ...   \n",
       "..                                                 ...   \n",
       "495  제5조 (증권관련집단소송에의 관여)\\n ①법 제9조제2항·제3항 또는 제11조제3항...   \n",
       "496  제6조 (소제기의 공고)\\n ①법 제10조제1항의 규정에 의한 공고는 전국을 보급지...   \n",
       "497  제7조 (대표당사자 선임을 위한 심문) 법원은 법 제10조제4항의 규정에 의한 대표...   \n",
       "498  제8조 (소송허가절차에서의 대표당사자 심문) 법원은 법 제13조제2항의 규정에 의한...   \n",
       "499  제9조 (심리할 법원지정의 신청 등)\\n ①법 제14조제2항의 규정에 의하여 심리할...   \n",
       "\n",
       "                                                  link  \n",
       "0    https://www.law.go.kr/DRF/lawService.do?OC=jak...  \n",
       "1    https://www.law.go.kr/DRF/lawService.do?OC=jak...  \n",
       "2    https://www.law.go.kr/DRF/lawService.do?OC=jak...  \n",
       "3    https://www.law.go.kr/DRF/lawService.do?OC=jak...  \n",
       "4    https://www.law.go.kr/DRF/lawService.do?OC=jak...  \n",
       "..                                                 ...  \n",
       "495  https://www.law.go.kr/DRF/lawService.do?OC=jak...  \n",
       "496  https://www.law.go.kr/DRF/lawService.do?OC=jak...  \n",
       "497  https://www.law.go.kr/DRF/lawService.do?OC=jak...  \n",
       "498  https://www.law.go.kr/DRF/lawService.do?OC=jak...  \n",
       "499  https://www.law.go.kr/DRF/lawService.do?OC=jak...  \n",
       "\n",
       "[500 rows x 4 columns]"
      ]
     },
     "execution_count": 30,
     "metadata": {},
     "output_type": "execute_result"
    }
   ],
   "source": [
    "df"
   ]
  },
  {
   "cell_type": "code",
   "execution_count": 31,
   "metadata": {},
   "outputs": [
    {
     "data": {
      "text/plain": [
       "file_name          0\n",
       "law_name_korean    0\n",
       "article            0\n",
       "link               0\n",
       "dtype: int64"
      ]
     },
     "execution_count": 31,
     "metadata": {},
     "output_type": "execute_result"
    }
   ],
   "source": [
    "df.isna().sum()"
   ]
  },
  {
   "cell_type": "code",
   "execution_count": 32,
   "metadata": {},
   "outputs": [
    {
     "data": {
      "text/plain": [
       "file_name\n",
       "law_65792_20050101_extract_flatten_000900000001_english.json    1\n",
       "law_24144_19691204_000100000001_english.json                    1\n",
       "law_24144_19691204_000200000001_english.json                    1\n",
       "law_24144_19691204_000300000001_english.json                    1\n",
       "law_62646_19990331_extract_flatten_000300000002_english.json    1\n",
       "                                                               ..\n",
       "law_2841_19751231_extract_flatten_000300000001_english.json     1\n",
       "law_2841_19751231_extract_flatten_000200000001_english.json     1\n",
       "law_2841_19751231_extract_flatten_000100000001_english.json     1\n",
       "law_24144_19691204_000600000001_english.json                    1\n",
       "law_24144_19691204_000500000001_english.json                    1\n",
       "Name: count, Length: 500, dtype: int64"
      ]
     },
     "execution_count": 32,
     "metadata": {},
     "output_type": "execute_result"
    }
   ],
   "source": [
    "df[\"file_name\"].value_counts()"
   ]
  },
  {
   "cell_type": "code",
   "execution_count": 33,
   "metadata": {},
   "outputs": [
    {
     "data": {
      "text/plain": [
       "law_name_korean\n",
       "대한민국헌법                                       130\n",
       "공공감사기준                                        44\n",
       "국민투표법시행규칙                                     44\n",
       "포획심판령                                         30\n",
       "국회방청규칙                                        17\n",
       "1980년해직공무원의보상등에관한특별조치법                        16\n",
       "각종분쟁조정위원회등의조정조서등에대한집행문부여에관한규칙                 16\n",
       "증권에의한세입납부에관한법률시행령                             14\n",
       "공소보류자관찰규칙                                     13\n",
       "군근무성적평정규정                                     13\n",
       "의회지도자상건립등에관한규칙                                12\n",
       "국세물납재산취급규칙                                    11\n",
       "국가정보자료관리규정                                    11\n",
       "원호재산특별처리법                                     10\n",
       "국회상설소위원회설치등에관한규칙                               9\n",
       "증권관련집단소송규칙                                     9\n",
       "교사임용후보자명부작성규칙                                  8\n",
       "대한민국근무기장령                                      8\n",
       "국회의원청가및결석에관한규칙                                 8\n",
       "특허법ㆍ실용신안법ㆍ의장법ㆍ상표법의시행에관한규칙                      7\n",
       "국제민사사법공조규칙                                     7\n",
       "1945년이후종전의규정에의한학교졸업자자격인정령                      6\n",
       "국회에서의증인등비용지급에관한규칙                              6\n",
       "대법원규칙의공포에관한규칙                                  6\n",
       "국제형사사법공조규칙                                     5\n",
       "법관이관여할수없는직무등에관한규칙                              5\n",
       "공직자등의병역사항신고및공개에관한법률시행에관한국회규칙                   5\n",
       "원격영상재판에관한규칙                                    5\n",
       "차관에의한외자구매및그절차규정                                5\n",
       "중앙선거관리위원회규칙의공포에관한규칙                            5\n",
       "고엽제가사용된남방한계선인접지역의범위에관한규칙                       4\n",
       "금융실명거래및비밀보장에관한법률부칙제7조의규정에의한소득세등의계산방법에관한규칙      4\n",
       "정당에대한보조금의지급중단및감액에관한규정                          3\n",
       "유류오염손해배상사건등의절차에관한규칙                            2\n",
       "국가공무원법제3조제3항의공무원의범위에관한규정                       2\n",
       "Name: count, dtype: int64"
      ]
     },
     "execution_count": 33,
     "metadata": {},
     "output_type": "execute_result"
    }
   ],
   "source": [
    "df[\"law_name_korean\"].value_counts()"
   ]
  },
  {
   "cell_type": "code",
   "execution_count": 34,
   "metadata": {},
   "outputs": [
    {
     "data": {
      "text/plain": [
       "article\n",
       "제1조 (목적) 이 규칙은 고엽제후유의증환자지원등에관한법률 제2조제1호의 규정에 의하여 고엽제가 사용된 남방한계선 인접지역의 범위를 규정함을 목적으로 한다.                                                                                                                                                                                                                                                                                                                                                                               2\n",
       "제2조 (남방한계선 인접지역의 범위) 고엽제후유의증환자지원등에관한법률 제2조제1호에서 \"대한민국 비무장지대 남방한계선의 인접지역으로서 국방부령이 정하는 지역\"이라 함은 다음 각호의 1에 해당하는 지역으로서 국방부장관이 세부적으로 정하는 지역을 말한다.\\n  1. 남방한계선에 설치된 철책에서 남쪽 또는 북쪽으로 100미터까지의 지역\\n  2. 남방한계선에 인접하여 설치된 관측소·지휘소 기타 주요 군사시설의 주변지역\\n  3. 남방한계선에 설치된 철책 주변에 있는 전술도로에서 왼쪽 또는 오른쪽으로30미터까지의 지역                                                                                                                                                                      2\n",
       "제1조 (목적) 이 규칙은 민사집행법이 적용 또는 준용되지 아니하는 법률의 규정에 의하여 재판상의 화해와 동일한 효력이 있는 문서에 대한 집행문의 부여절차 기타 필요한 사항을 규정함을 목적으로 한다. <개정 2002.6.28>                                                                                                                                                                                                                                                                                                                                        2\n",
       "제6조 (시행령) 이 법 시행에 관하여 필요한 사항은 대통령령으로 정한다.                                                                                                                                                                                                                                                                                                                                                                                                                             2\n",
       "제5조 (행정지도) 정부는 정부산하기관의 직원중 정화계획에 의하여 해직된 자에 대하여 해직공무원과 상응한 조치가 이루어질 수 있도록 행정지도를 한다.                                                                                                                                                                                                                                                                                                                                                                                   2\n",
       "                                                                                                                                                                                                                                                                                                                                                                                                                                                                     ..\n",
       "제30조 포획심판소 및 고등포획심판소의 심판절차에 대하여는 본령에 특별한 규정이 없는 한 민사소송법을 준용한다.                                                                                                                                                                                                                                                                                                                                                                                                        1\n",
       "제29조 해군은 포획심판소의 위탁을 받아 나포물건을 보관하며 심판의 집행을 원조하여야 한다.                                                                                                                                                                                                                                                                                                                                                                                                                   1\n",
       "제28조 심판의 집행은 검찰관이 행한다.                                                                                                                                                                                                                                                                                                                                                                                                                                                1\n",
       "제27조 포획심판이 확정된 물건은 국고의 소득이 된다.                                                                                                                                                                                                                                                                                                                                                                                                                                        1\n",
       "제6조 (공공감사의 기획과 연계·지원등)\\n ①감사원은 국가최고감사기구로서 공공감사의 방향 설정, 감사전략계획의 수립, 자체감사기구와의 역할 분담과 연계등을 통해 감사업무의 효율화와 감사성과의 극대화를 도모한다.\\n  ②감사원은 자체감사계획을 제출받아 감사중복등을 피하기 위하여 필요한 경우에는 감사사항, 감사범위, 감사시기와 기간, 감사방법등을 자체감사기구와의 협의에 의하여 조정할 수 있다.\\n  ③감사원은 자체감사인력을 지원받아 합동감사를 실시할 수 있다.\\n  ④감사원은 자체감사의 수행에 필요한 인력, 자료, 정보, 감사기법등을 지원할 수 있다.\\n  ⑤감사원은 자체감사인의 전문성을 높이기 위한 교육훈련 프로그램을 시행할 수 있다.\\n  ⑥감사원은 자체감사의 조정·통제업무를 지원하기 위하여 자체감사결과를 보고받아 심사하고 자체감사의 수행실태를 주기적으로 평가할 수 있다.\\n\\n제2장 일반기준    1\n",
       "Name: count, Length: 482, dtype: int64"
      ]
     },
     "execution_count": 34,
     "metadata": {},
     "output_type": "execute_result"
    }
   ],
   "source": [
    "df[\"article\"].value_counts()"
   ]
  },
  {
   "cell_type": "code",
   "execution_count": 35,
   "metadata": {},
   "outputs": [
    {
     "data": {
      "text/plain": [
       "link\n",
       "https://www.law.go.kr/DRF/lawService.do?OC=jakyungjung01&target=law&MST=61603&type=HTML&mobileYn=&efYd=19880225    130\n",
       "https://www.law.go.kr/DRF/lawService.do?OC=jakyungjung01&target=law&MST=49210&type=HTML&mobileYn=&efYd=19990828     44\n",
       "https://www.law.go.kr/DRF/lawService.do?OC=jakyungjung01&target=law&MST=61860&type=HTML&mobileYn=&efYd=19890325     44\n",
       "https://www.law.go.kr/DRF/lawService.do?OC=jakyungjung01&target=law&MST=4323&type=HTML&mobileYn=&efYd=19521004      30\n",
       "https://www.law.go.kr/DRF/lawService.do?OC=jakyungjung01&target=law&MST=35512&type=HTML&mobileYn=&efYd=19950327     17\n",
       "https://www.law.go.kr/DRF/lawService.do?OC=jakyungjung01&target=law&MST=3274&type=HTML&mobileYn=&efYd=19890329      16\n",
       "https://www.law.go.kr/DRF/lawService.do?OC=jakyungjung01&target=law&MST=52364&type=HTML&mobileYn=&efYd=20020701     16\n",
       "https://www.law.go.kr/DRF/lawService.do?OC=jakyungjung01&target=law&MST=55761&type=HTML&mobileYn=&efYd=19960212     14\n",
       "https://www.law.go.kr/DRF/lawService.do?OC=jakyungjung01&target=law&MST=35068&type=HTML&mobileYn=&efYd=19690823     13\n",
       "https://www.law.go.kr/DRF/lawService.do?OC=jakyungjung01&target=law&MST=51016&type=HTML&mobileYn=&efYd=20010327     13\n",
       "https://www.law.go.kr/DRF/lawService.do?OC=jakyungjung01&target=law&MST=35908&type=HTML&mobileYn=&efYd=19960101     12\n",
       "https://www.law.go.kr/DRF/lawService.do?OC=jakyungjung01&target=law&MST=49315&type=HTML&mobileYn=&efYd=19500522     11\n",
       "https://www.law.go.kr/DRF/lawService.do?OC=jakyungjung01&target=law&MST=62646&type=HTML&mobileYn=&efYd=19990331     11\n",
       "https://www.law.go.kr/DRF/lawService.do?OC=jakyungjung01&target=law&MST=2841&type=HTML&mobileYn=&efYd=19751231      10\n",
       "https://www.law.go.kr/DRF/lawService.do?OC=jakyungjung01&target=law&MST=35649&type=HTML&mobileYn=&efYd=19980829      9\n",
       "https://www.law.go.kr/DRF/lawService.do?OC=jakyungjung01&target=law&MST=65792&type=HTML&mobileYn=&efYd=20050101      9\n",
       "https://www.law.go.kr/DRF/lawService.do?OC=jakyungjung01&target=law&MST=61460&type=HTML&mobileYn=&efYd=20040903      8\n",
       "https://www.law.go.kr/DRF/lawService.do?OC=jakyungjung01&target=law&MST=56888&type=HTML&mobileYn=&efYd=20030325      8\n",
       "https://www.law.go.kr/DRF/lawService.do?OC=jakyungjung01&target=law&MST=35778&type=HTML&mobileYn=&efYd=19950318      8\n",
       "https://www.law.go.kr/DRF/lawService.do?OC=jakyungjung01&target=law&MST=54222&type=HTML&mobileYn=&efYd=20020701      7\n",
       "https://www.law.go.kr/DRF/lawService.do?OC=jakyungjung01&target=law&MST=52366&type=HTML&mobileYn=&efYd=20020701      7\n",
       "https://www.law.go.kr/DRF/lawService.do?OC=jakyungjung01&target=law&MST=24144&type=HTML&mobileYn=&efYd=19691204      6\n",
       "https://www.law.go.kr/DRF/lawService.do?OC=jakyungjung01&target=law&MST=35771&type=HTML&mobileYn=&efYd=19950318      6\n",
       "https://www.law.go.kr/DRF/lawService.do?OC=jakyungjung01&target=law&MST=33791&type=HTML&mobileYn=&efYd=19880323      6\n",
       "https://www.law.go.kr/DRF/lawService.do?OC=jakyungjung01&target=law&MST=33523&type=HTML&mobileYn=&efYd=19910614      5\n",
       "https://www.law.go.kr/DRF/lawService.do?OC=jakyungjung01&target=law&MST=32988&type=HTML&mobileYn=&efYd=19880323      5\n",
       "https://www.law.go.kr/DRF/lawService.do?OC=jakyungjung01&target=law&MST=35378&type=HTML&mobileYn=&efYd=19990930      5\n",
       "https://www.law.go.kr/DRF/lawService.do?OC=jakyungjung01&target=law&MST=36423&type=HTML&mobileYn=&efYd=19951226      5\n",
       "https://www.law.go.kr/DRF/lawService.do?OC=jakyungjung01&target=law&MST=48974&type=HTML&mobileYn=&efYd=19700916      5\n",
       "https://www.law.go.kr/DRF/lawService.do?OC=jakyungjung01&target=law&MST=36583&type=HTML&mobileYn=&efYd=19871107      5\n",
       "https://www.law.go.kr/DRF/lawService.do?OC=jakyungjung01&target=law&MST=36135&type=HTML&mobileYn=&efYd=20000705      4\n",
       "https://www.law.go.kr/DRF/lawService.do?OC=jakyungjung01&target=law&MST=39593&type=HTML&mobileYn=&efYd=19971231      4\n",
       "https://www.law.go.kr/DRF/lawService.do?OC=jakyungjung01&target=law&MST=52970&type=HTML&mobileYn=&efYd=20011114      3\n",
       "https://www.law.go.kr/DRF/lawService.do?OC=jakyungjung01&target=law&MST=36426&type=HTML&mobileYn=&efYd=19951027      2\n",
       "https://www.law.go.kr/DRF/lawService.do?OC=jakyungjung01&target=law&MST=52789&type=HTML&mobileYn=&efYd=20020710      2\n",
       "Name: count, dtype: int64"
      ]
     },
     "execution_count": 35,
     "metadata": {},
     "output_type": "execute_result"
    }
   ],
   "source": [
    "df[\"link\"].value_counts()"
   ]
  },
  {
   "cell_type": "code",
   "execution_count": 36,
   "metadata": {},
   "outputs": [],
   "source": [
    "df.to_csv(\"law.csv\", index=False, encoding=\"utf-8-sig\")"
   ]
  },
  {
   "cell_type": "code",
   "execution_count": 42,
   "metadata": {},
   "outputs": [
    {
     "data": {
      "text/plain": [
       "law_name_korean                            link                                                                                                           \n",
       "대한민국헌법                                     https://www.law.go.kr/DRF/lawService.do?OC=jakyungjung01&target=law&MST=61603&type=HTML&mobileYn=&efYd=19880225    130\n",
       "공공감사기준                                     https://www.law.go.kr/DRF/lawService.do?OC=jakyungjung01&target=law&MST=49210&type=HTML&mobileYn=&efYd=19990828     44\n",
       "국민투표법시행규칙                                  https://www.law.go.kr/DRF/lawService.do?OC=jakyungjung01&target=law&MST=61860&type=HTML&mobileYn=&efYd=19890325     44\n",
       "포획심판령                                      https://www.law.go.kr/DRF/lawService.do?OC=jakyungjung01&target=law&MST=4323&type=HTML&mobileYn=&efYd=19521004      30\n",
       "국회방청규칙                                     https://www.law.go.kr/DRF/lawService.do?OC=jakyungjung01&target=law&MST=35512&type=HTML&mobileYn=&efYd=19950327     17\n",
       "1980년해직공무원의보상등에관한특별조치법                     https://www.law.go.kr/DRF/lawService.do?OC=jakyungjung01&target=law&MST=3274&type=HTML&mobileYn=&efYd=19890329      16\n",
       "각종분쟁조정위원회등의조정조서등에대한집행문부여에관한규칙              https://www.law.go.kr/DRF/lawService.do?OC=jakyungjung01&target=law&MST=52364&type=HTML&mobileYn=&efYd=20020701     16\n",
       "증권에의한세입납부에관한법률시행령                          https://www.law.go.kr/DRF/lawService.do?OC=jakyungjung01&target=law&MST=55761&type=HTML&mobileYn=&efYd=19960212     14\n",
       "군근무성적평정규정                                  https://www.law.go.kr/DRF/lawService.do?OC=jakyungjung01&target=law&MST=51016&type=HTML&mobileYn=&efYd=20010327     13\n",
       "공소보류자관찰규칙                                  https://www.law.go.kr/DRF/lawService.do?OC=jakyungjung01&target=law&MST=35068&type=HTML&mobileYn=&efYd=19690823     13\n",
       "의회지도자상건립등에관한규칙                             https://www.law.go.kr/DRF/lawService.do?OC=jakyungjung01&target=law&MST=35908&type=HTML&mobileYn=&efYd=19960101     12\n",
       "국가정보자료관리규정                                 https://www.law.go.kr/DRF/lawService.do?OC=jakyungjung01&target=law&MST=62646&type=HTML&mobileYn=&efYd=19990331     11\n",
       "국세물납재산취급규칙                                 https://www.law.go.kr/DRF/lawService.do?OC=jakyungjung01&target=law&MST=49315&type=HTML&mobileYn=&efYd=19500522     11\n",
       "원호재산특별처리법                                  https://www.law.go.kr/DRF/lawService.do?OC=jakyungjung01&target=law&MST=2841&type=HTML&mobileYn=&efYd=19751231      10\n",
       "증권관련집단소송규칙                                 https://www.law.go.kr/DRF/lawService.do?OC=jakyungjung01&target=law&MST=65792&type=HTML&mobileYn=&efYd=20050101      9\n",
       "국회상설소위원회설치등에관한규칙                           https://www.law.go.kr/DRF/lawService.do?OC=jakyungjung01&target=law&MST=35649&type=HTML&mobileYn=&efYd=19980829      9\n",
       "대한민국근무기장령                                  https://www.law.go.kr/DRF/lawService.do?OC=jakyungjung01&target=law&MST=56888&type=HTML&mobileYn=&efYd=20030325      8\n",
       "국회의원청가및결석에관한규칙                             https://www.law.go.kr/DRF/lawService.do?OC=jakyungjung01&target=law&MST=35778&type=HTML&mobileYn=&efYd=19950318      8\n",
       "교사임용후보자명부작성규칙                              https://www.law.go.kr/DRF/lawService.do?OC=jakyungjung01&target=law&MST=61460&type=HTML&mobileYn=&efYd=20040903      8\n",
       "특허법ㆍ실용신안법ㆍ의장법ㆍ상표법의시행에관한규칙                  https://www.law.go.kr/DRF/lawService.do?OC=jakyungjung01&target=law&MST=54222&type=HTML&mobileYn=&efYd=20020701      7\n",
       "국제민사사법공조규칙                                 https://www.law.go.kr/DRF/lawService.do?OC=jakyungjung01&target=law&MST=52366&type=HTML&mobileYn=&efYd=20020701      7\n",
       "1945년이후종전의규정에의한학교졸업자자격인정령                  https://www.law.go.kr/DRF/lawService.do?OC=jakyungjung01&target=law&MST=24144&type=HTML&mobileYn=&efYd=19691204      6\n",
       "대법원규칙의공포에관한규칙                              https://www.law.go.kr/DRF/lawService.do?OC=jakyungjung01&target=law&MST=33791&type=HTML&mobileYn=&efYd=19880323      6\n",
       "국회에서의증인등비용지급에관한규칙                          https://www.law.go.kr/DRF/lawService.do?OC=jakyungjung01&target=law&MST=35771&type=HTML&mobileYn=&efYd=19950318      6\n",
       "중앙선거관리위원회규칙의공포에관한규칙                        https://www.law.go.kr/DRF/lawService.do?OC=jakyungjung01&target=law&MST=36583&type=HTML&mobileYn=&efYd=19871107      5\n",
       "국제형사사법공조규칙                                 https://www.law.go.kr/DRF/lawService.do?OC=jakyungjung01&target=law&MST=33523&type=HTML&mobileYn=&efYd=19910614      5\n",
       "공직자등의병역사항신고및공개에관한법률시행에관한국회규칙               https://www.law.go.kr/DRF/lawService.do?OC=jakyungjung01&target=law&MST=35378&type=HTML&mobileYn=&efYd=19990930      5\n",
       "차관에의한외자구매및그절차규정                            https://www.law.go.kr/DRF/lawService.do?OC=jakyungjung01&target=law&MST=48974&type=HTML&mobileYn=&efYd=19700916      5\n",
       "원격영상재판에관한규칙                                https://www.law.go.kr/DRF/lawService.do?OC=jakyungjung01&target=law&MST=36423&type=HTML&mobileYn=&efYd=19951226      5\n",
       "법관이관여할수없는직무등에관한규칙                          https://www.law.go.kr/DRF/lawService.do?OC=jakyungjung01&target=law&MST=32988&type=HTML&mobileYn=&efYd=19880323      5\n",
       "고엽제가사용된남방한계선인접지역의범위에관한규칙                   https://www.law.go.kr/DRF/lawService.do?OC=jakyungjung01&target=law&MST=36135&type=HTML&mobileYn=&efYd=20000705      4\n",
       "금융실명거래및비밀보장에관한법률부칙제7조의규정에의한소득세등의계산방법에관한규칙  https://www.law.go.kr/DRF/lawService.do?OC=jakyungjung01&target=law&MST=39593&type=HTML&mobileYn=&efYd=19971231      4\n",
       "정당에대한보조금의지급중단및감액에관한규정                      https://www.law.go.kr/DRF/lawService.do?OC=jakyungjung01&target=law&MST=52970&type=HTML&mobileYn=&efYd=20011114      3\n",
       "국가공무원법제3조제3항의공무원의범위에관한규정                   https://www.law.go.kr/DRF/lawService.do?OC=jakyungjung01&target=law&MST=52789&type=HTML&mobileYn=&efYd=20020710      2\n",
       "유류오염손해배상사건등의절차에관한규칙                        https://www.law.go.kr/DRF/lawService.do?OC=jakyungjung01&target=law&MST=36426&type=HTML&mobileYn=&efYd=19951027      2\n",
       "Name: count, dtype: int64"
      ]
     },
     "execution_count": 42,
     "metadata": {},
     "output_type": "execute_result"
    }
   ],
   "source": [
    "# 파싱 \n",
    "\n"
   ]
  },
  {
   "cell_type": "code",
   "execution_count": null,
   "metadata": {},
   "outputs": [],
   "source": []
  },
  {
   "cell_type": "code",
   "execution_count": null,
   "metadata": {},
   "outputs": [],
   "source": [
    "from langchain_core.documents import Document\n",
    "\n",
    "\n"
   ]
  },
  {
   "cell_type": "code",
   "execution_count": null,
   "metadata": {},
   "outputs": [],
   "source": []
  },
  {
   "cell_type": "code",
   "execution_count": null,
   "metadata": {},
   "outputs": [],
   "source": []
  },
  {
   "cell_type": "code",
   "execution_count": null,
   "metadata": {},
   "outputs": [],
   "source": []
  },
  {
   "cell_type": "code",
   "execution_count": null,
   "metadata": {},
   "outputs": [],
   "source": []
  }
 ],
 "metadata": {
  "kernelspec": {
   "display_name": "skt",
   "language": "python",
   "name": "python3"
  },
  "language_info": {
   "codemirror_mode": {
    "name": "ipython",
    "version": 3
   },
   "file_extension": ".py",
   "mimetype": "text/x-python",
   "name": "python",
   "nbconvert_exporter": "python",
   "pygments_lexer": "ipython3",
   "version": "3.12.3"
  }
 },
 "nbformat": 4,
 "nbformat_minor": 2
}
